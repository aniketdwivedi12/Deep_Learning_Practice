{
 "cells": [
  {
   "cell_type": "code",
   "execution_count": 1,
   "metadata": {},
   "outputs": [],
   "source": [
    "# Importing the libraries\n",
    "import numpy as np\n",
    "import matplotlib.pyplot as plt\n",
    "import pandas as pd"
   ]
  },
  {
   "cell_type": "code",
   "execution_count": 2,
   "metadata": {},
   "outputs": [],
   "source": [
    "# Importing the dataset\n",
    "dataset = pd.read_csv('Churn_Modelling.csv')\n",
    "X = dataset.iloc[:, 3:12].values\n",
    "y = dataset.iloc[:, 13].values"
   ]
  },
  {
   "cell_type": "code",
   "execution_count": 3,
   "metadata": {},
   "outputs": [
    {
     "name": "stderr",
     "output_type": "stream",
     "text": [
      "/home/aniket/.local/lib/python3.6/site-packages/sklearn/preprocessing/_encoders.py:371: FutureWarning: The handling of integer data will change in version 0.22. Currently, the categories are determined based on the range [0, max(values)], while in the future they will be determined based on the unique values.\n",
      "If you want the future behaviour and silence this warning, you can specify \"categories='auto'\".\n",
      "In case you used a LabelEncoder before this OneHotEncoder to convert the categories to integers, then you can now use the OneHotEncoder directly.\n",
      "  warnings.warn(msg, FutureWarning)\n",
      "/home/aniket/.local/lib/python3.6/site-packages/sklearn/preprocessing/_encoders.py:392: DeprecationWarning: The 'categorical_features' keyword is deprecated in version 0.20 and will be removed in 0.22. You can use the ColumnTransformer instead.\n",
      "  \"use the ColumnTransformer instead.\", DeprecationWarning)\n"
     ]
    }
   ],
   "source": [
    "# Encoding Categorical data\n",
    "from sklearn.preprocessing import LabelEncoder, OneHotEncoder\n",
    "labelencoder_X_1= LabelEncoder()\n",
    "X[:, 1] = labelencoder_X_1.fit_transform(X[:, 1])\n",
    "labelencoder_X_2= LabelEncoder()\n",
    "X[:, 2] = labelencoder_X_2.fit_transform(X[:, 2])\n",
    "onehotencoder = OneHotEncoder(categorical_features = [1])\n",
    "X = onehotencoder.fit_transform(X).toarray()\n",
    "X = X[:, 1:]"
   ]
  },
  {
   "cell_type": "code",
   "execution_count": 4,
   "metadata": {},
   "outputs": [],
   "source": [
    "# Splitting the dataset into the Training set and Test set\n",
    "from sklearn.model_selection import train_test_split\n",
    "X_train, X_test, y_train, y_test = train_test_split(X, y, test_size = 0.2, random_state = 0)\n"
   ]
  },
  {
   "cell_type": "code",
   "execution_count": 5,
   "metadata": {},
   "outputs": [],
   "source": [
    "# Feature Scaling\n",
    "from sklearn.preprocessing import StandardScaler\n",
    "sc = StandardScaler()\n",
    "X_train = sc.fit_transform(X_train)\n",
    "X_test = sc.transform(X_test)"
   ]
  },
  {
   "cell_type": "code",
   "execution_count": 6,
   "metadata": {},
   "outputs": [
    {
     "name": "stderr",
     "output_type": "stream",
     "text": [
      "Using TensorFlow backend.\n"
     ]
    }
   ],
   "source": [
    "# Import Keras lib and required packages\n",
    "import keras\n",
    "from keras.models import Sequential\n",
    "from keras.layers import Dense"
   ]
  },
  {
   "cell_type": "code",
   "execution_count": 7,
   "metadata": {},
   "outputs": [
    {
     "name": "stdout",
     "output_type": "stream",
     "text": [
      "WARNING:tensorflow:From /home/aniket/.local/lib/python3.6/site-packages/tensorflow/python/framework/op_def_library.py:263: colocate_with (from tensorflow.python.framework.ops) is deprecated and will be removed in a future version.\n",
      "Instructions for updating:\n",
      "Colocations handled automatically by placer.\n"
     ]
    }
   ],
   "source": [
    "# Initialize Neural Network\n",
    "classifier = Sequential()\n",
    "\n",
    "#Adding initial layer and hidden layer\n",
    "classifier.add(Dense(units= 6,kernel_initializer = 'uniform',activation='relu'))\n",
    "\n",
    "#Adding second hidden layer\n",
    "classifier.add(Dense(units= 6,kernel_initializer = 'uniform',activation='relu'))\n",
    "\n",
    "# Adding output layer\n",
    "classifier.add(Dense(units= 1,kernel_initializer = 'uniform',activation='sigmoid'))\n",
    "\n",
    "# Compiling the ANN\n",
    "classifier.compile(optimizer='adam',loss='binary_crossentropy', metrics=['accuracy'])"
   ]
  },
  {
   "cell_type": "code",
   "execution_count": 8,
   "metadata": {},
   "outputs": [
    {
     "name": "stdout",
     "output_type": "stream",
     "text": [
      "WARNING:tensorflow:From /home/aniket/.local/lib/python3.6/site-packages/tensorflow/python/ops/math_ops.py:3066: to_int32 (from tensorflow.python.ops.math_ops) is deprecated and will be removed in a future version.\n",
      "Instructions for updating:\n",
      "Use tf.cast instead.\n",
      "Epoch 1/100\n",
      "8000/8000 [==============================] - 1s 99us/step - loss: 0.4949 - acc: 0.8010\n",
      "Epoch 2/100\n",
      "8000/8000 [==============================] - 1s 84us/step - loss: 0.3819 - acc: 0.8426\n",
      "Epoch 3/100\n",
      "8000/8000 [==============================] - 1s 86us/step - loss: 0.3567 - acc: 0.8545\n",
      "Epoch 4/100\n",
      "8000/8000 [==============================] - 1s 77us/step - loss: 0.3500 - acc: 0.8567\n",
      "Epoch 5/100\n",
      "8000/8000 [==============================] - 1s 75us/step - loss: 0.3469 - acc: 0.8582\n",
      "Epoch 6/100\n",
      "8000/8000 [==============================] - 1s 76us/step - loss: 0.3453 - acc: 0.8587\n",
      "Epoch 7/100\n",
      "8000/8000 [==============================] - 1s 79us/step - loss: 0.3443 - acc: 0.8587\n",
      "Epoch 8/100\n",
      "8000/8000 [==============================] - 1s 83us/step - loss: 0.3438 - acc: 0.8587\n",
      "Epoch 9/100\n",
      "8000/8000 [==============================] - 1s 75us/step - loss: 0.3419 - acc: 0.8596\n",
      "Epoch 10/100\n",
      "8000/8000 [==============================] - 1s 76us/step - loss: 0.3418 - acc: 0.8599\n",
      "Epoch 11/100\n",
      "8000/8000 [==============================] - 1s 75us/step - loss: 0.3409 - acc: 0.8612\n",
      "Epoch 12/100\n",
      "8000/8000 [==============================] - 1s 79us/step - loss: 0.3403 - acc: 0.8594\n",
      "Epoch 13/100\n",
      "8000/8000 [==============================] - 1s 74us/step - loss: 0.3397 - acc: 0.8609\n",
      "Epoch 14/100\n",
      "8000/8000 [==============================] - 1s 75us/step - loss: 0.3397 - acc: 0.8606\n",
      "Epoch 15/100\n",
      "8000/8000 [==============================] - 1s 75us/step - loss: 0.3390 - acc: 0.8615\n",
      "Epoch 16/100\n",
      "8000/8000 [==============================] - 1s 77us/step - loss: 0.3381 - acc: 0.8610\n",
      "Epoch 17/100\n",
      "8000/8000 [==============================] - 1s 75us/step - loss: 0.3382 - acc: 0.8631\n",
      "Epoch 18/100\n",
      "8000/8000 [==============================] - 1s 77us/step - loss: 0.3378 - acc: 0.8616\n",
      "Epoch 19/100\n",
      "8000/8000 [==============================] - 1s 75us/step - loss: 0.3376 - acc: 0.8605\n",
      "Epoch 20/100\n",
      "8000/8000 [==============================] - 1s 75us/step - loss: 0.3372 - acc: 0.8631\n",
      "Epoch 21/100\n",
      "8000/8000 [==============================] - 1s 75us/step - loss: 0.3374 - acc: 0.8626\n",
      "Epoch 22/100\n",
      "8000/8000 [==============================] - 1s 75us/step - loss: 0.3366 - acc: 0.8632\n",
      "Epoch 23/100\n",
      "8000/8000 [==============================] - 1s 76us/step - loss: 0.3360 - acc: 0.8619\n",
      "Epoch 24/100\n",
      "8000/8000 [==============================] - 1s 76us/step - loss: 0.3366 - acc: 0.8647\n",
      "Epoch 25/100\n",
      "8000/8000 [==============================] - 1s 77us/step - loss: 0.3361 - acc: 0.8629\n",
      "Epoch 26/100\n",
      "8000/8000 [==============================] - 1s 77us/step - loss: 0.3370 - acc: 0.8610\n",
      "Epoch 27/100\n",
      "8000/8000 [==============================] - 1s 77us/step - loss: 0.3363 - acc: 0.8626\n",
      "Epoch 28/100\n",
      "8000/8000 [==============================] - 1s 79us/step - loss: 0.3363 - acc: 0.8647\n",
      "Epoch 29/100\n",
      "8000/8000 [==============================] - 1s 77us/step - loss: 0.3359 - acc: 0.8621\n",
      "Epoch 30/100\n",
      "8000/8000 [==============================] - 1s 77us/step - loss: 0.3356 - acc: 0.8620\n",
      "Epoch 31/100\n",
      "8000/8000 [==============================] - 1s 78us/step - loss: 0.3359 - acc: 0.8622\n",
      "Epoch 32/100\n",
      "8000/8000 [==============================] - 1s 76us/step - loss: 0.3363 - acc: 0.8634\n",
      "Epoch 33/100\n",
      "8000/8000 [==============================] - 1s 77us/step - loss: 0.3354 - acc: 0.8630\n",
      "Epoch 34/100\n",
      "8000/8000 [==============================] - 1s 77us/step - loss: 0.3362 - acc: 0.8610\n",
      "Epoch 35/100\n",
      "8000/8000 [==============================] - 1s 77us/step - loss: 0.3353 - acc: 0.8615\n",
      "Epoch 36/100\n",
      "8000/8000 [==============================] - 1s 78us/step - loss: 0.3356 - acc: 0.8616\n",
      "Epoch 37/100\n",
      "8000/8000 [==============================] - 1s 75us/step - loss: 0.3359 - acc: 0.8630\n",
      "Epoch 38/100\n",
      "8000/8000 [==============================] - 1s 77us/step - loss: 0.3353 - acc: 0.8619\n",
      "Epoch 39/100\n",
      "8000/8000 [==============================] - 1s 77us/step - loss: 0.3357 - acc: 0.8626\n",
      "Epoch 40/100\n",
      "8000/8000 [==============================] - 1s 76us/step - loss: 0.3353 - acc: 0.8632\n",
      "Epoch 41/100\n",
      "8000/8000 [==============================] - 1s 77us/step - loss: 0.3354 - acc: 0.8634\n",
      "Epoch 42/100\n",
      "8000/8000 [==============================] - 1s 79us/step - loss: 0.3350 - acc: 0.8632\n",
      "Epoch 43/100\n",
      "8000/8000 [==============================] - 1s 77us/step - loss: 0.3351 - acc: 0.8629\n",
      "Epoch 44/100\n",
      "8000/8000 [==============================] - 1s 78us/step - loss: 0.3353 - acc: 0.8635\n",
      "Epoch 45/100\n",
      "8000/8000 [==============================] - 1s 81us/step - loss: 0.3350 - acc: 0.8630\n",
      "Epoch 46/100\n",
      "8000/8000 [==============================] - 1s 82us/step - loss: 0.3354 - acc: 0.8637\n",
      "Epoch 47/100\n",
      "8000/8000 [==============================] - 1s 80us/step - loss: 0.3348 - acc: 0.8639\n",
      "Epoch 48/100\n",
      "8000/8000 [==============================] - 1s 89us/step - loss: 0.3343 - acc: 0.8652\n",
      "Epoch 49/100\n",
      "8000/8000 [==============================] - 1s 92us/step - loss: 0.3350 - acc: 0.8610\n",
      "Epoch 50/100\n",
      "8000/8000 [==============================] - 1s 92us/step - loss: 0.3344 - acc: 0.8644\n",
      "Epoch 51/100\n",
      "8000/8000 [==============================] - 1s 87us/step - loss: 0.3348 - acc: 0.8645\n",
      "Epoch 52/100\n",
      "8000/8000 [==============================] - 1s 88us/step - loss: 0.3345 - acc: 0.8632\n",
      "Epoch 53/100\n",
      "8000/8000 [==============================] - 1s 84us/step - loss: 0.3345 - acc: 0.8636\n",
      "Epoch 54/100\n",
      "8000/8000 [==============================] - 1s 118us/step - loss: 0.3349 - acc: 0.8622\n",
      "Epoch 55/100\n",
      "8000/8000 [==============================] - 1s 80us/step - loss: 0.3350 - acc: 0.8625\n",
      "Epoch 56/100\n",
      "8000/8000 [==============================] - 1s 81us/step - loss: 0.3348 - acc: 0.8639\n",
      "Epoch 57/100\n",
      "8000/8000 [==============================] - 1s 82us/step - loss: 0.3344 - acc: 0.8634\n",
      "Epoch 58/100\n",
      "8000/8000 [==============================] - 1s 81us/step - loss: 0.3343 - acc: 0.8637\n",
      "Epoch 59/100\n",
      "8000/8000 [==============================] - 1s 79us/step - loss: 0.3345 - acc: 0.8639\n",
      "Epoch 60/100\n",
      "8000/8000 [==============================] - 1s 80us/step - loss: 0.3342 - acc: 0.8660\n",
      "Epoch 61/100\n",
      "8000/8000 [==============================] - 1s 80us/step - loss: 0.3343 - acc: 0.8616\n",
      "Epoch 62/100\n",
      "8000/8000 [==============================] - 1s 77us/step - loss: 0.3346 - acc: 0.8626\n",
      "Epoch 63/100\n",
      "8000/8000 [==============================] - 1s 81us/step - loss: 0.3343 - acc: 0.8635\n",
      "Epoch 64/100\n",
      "8000/8000 [==============================] - 1s 78us/step - loss: 0.3344 - acc: 0.8644\n",
      "Epoch 65/100\n",
      "8000/8000 [==============================] - 1s 82us/step - loss: 0.3334 - acc: 0.8636\n",
      "Epoch 66/100\n",
      "8000/8000 [==============================] - 1s 80us/step - loss: 0.3340 - acc: 0.8627\n",
      "Epoch 67/100\n",
      "8000/8000 [==============================] - 1s 81us/step - loss: 0.3336 - acc: 0.8639\n",
      "Epoch 68/100\n",
      "8000/8000 [==============================] - 1s 90us/step - loss: 0.3335 - acc: 0.8661\n",
      "Epoch 69/100\n",
      "8000/8000 [==============================] - 1s 91us/step - loss: 0.3340 - acc: 0.8635\n",
      "Epoch 70/100\n",
      "8000/8000 [==============================] - 1s 75us/step - loss: 0.3340 - acc: 0.8636\n",
      "Epoch 71/100\n",
      "8000/8000 [==============================] - 1s 71us/step - loss: 0.3338 - acc: 0.8651\n",
      "Epoch 72/100\n",
      "8000/8000 [==============================] - 1s 65us/step - loss: 0.3336 - acc: 0.8637\n",
      "Epoch 73/100\n",
      "8000/8000 [==============================] - 1s 65us/step - loss: 0.3338 - acc: 0.8641\n",
      "Epoch 74/100\n",
      "8000/8000 [==============================] - 1s 66us/step - loss: 0.3338 - acc: 0.8652\n",
      "Epoch 75/100\n",
      "8000/8000 [==============================] - 1s 65us/step - loss: 0.3337 - acc: 0.8639\n",
      "Epoch 76/100\n",
      "8000/8000 [==============================] - 1s 72us/step - loss: 0.3338 - acc: 0.8647\n",
      "Epoch 77/100\n",
      "8000/8000 [==============================] - 1s 82us/step - loss: 0.3336 - acc: 0.8631\n",
      "Epoch 78/100\n",
      "8000/8000 [==============================] - 1s 65us/step - loss: 0.3337 - acc: 0.8651\n",
      "Epoch 79/100\n",
      "8000/8000 [==============================] - 1s 63us/step - loss: 0.3341 - acc: 0.8636\n",
      "Epoch 80/100\n"
     ]
    },
    {
     "name": "stdout",
     "output_type": "stream",
     "text": [
      "8000/8000 [==============================] - 1s 63us/step - loss: 0.3335 - acc: 0.8634\n",
      "Epoch 81/100\n",
      "8000/8000 [==============================] - 0s 62us/step - loss: 0.3338 - acc: 0.8630\n",
      "Epoch 82/100\n",
      "8000/8000 [==============================] - 1s 64us/step - loss: 0.3336 - acc: 0.8641\n",
      "Epoch 83/100\n",
      "8000/8000 [==============================] - 1s 63us/step - loss: 0.3330 - acc: 0.8637\n",
      "Epoch 84/100\n",
      "8000/8000 [==============================] - 1s 64us/step - loss: 0.3335 - acc: 0.8632\n",
      "Epoch 85/100\n",
      "8000/8000 [==============================] - 1s 63us/step - loss: 0.3333 - acc: 0.8644\n",
      "Epoch 86/100\n",
      "8000/8000 [==============================] - 1s 63us/step - loss: 0.3337 - acc: 0.8647\n",
      "Epoch 87/100\n",
      "8000/8000 [==============================] - 1s 69us/step - loss: 0.3339 - acc: 0.8644\n",
      "Epoch 88/100\n",
      "8000/8000 [==============================] - 1s 78us/step - loss: 0.3329 - acc: 0.8632\n",
      "Epoch 89/100\n",
      "8000/8000 [==============================] - 1s 84us/step - loss: 0.3332 - acc: 0.8647\n",
      "Epoch 90/100\n",
      "8000/8000 [==============================] - 1s 94us/step - loss: 0.3333 - acc: 0.8644\n",
      "Epoch 91/100\n",
      "8000/8000 [==============================] - 1s 96us/step - loss: 0.3338 - acc: 0.8642\n",
      "Epoch 92/100\n",
      "8000/8000 [==============================] - 1s 83us/step - loss: 0.3333 - acc: 0.8626\n",
      "Epoch 93/100\n",
      "8000/8000 [==============================] - 1s 87us/step - loss: 0.3329 - acc: 0.8644\n",
      "Epoch 94/100\n",
      "8000/8000 [==============================] - 1s 83us/step - loss: 0.3326 - acc: 0.8644\n",
      "Epoch 95/100\n",
      "8000/8000 [==============================] - 1s 84us/step - loss: 0.3334 - acc: 0.8636\n",
      "Epoch 96/100\n",
      "8000/8000 [==============================] - 1s 84us/step - loss: 0.3326 - acc: 0.8635\n",
      "Epoch 97/100\n",
      "8000/8000 [==============================] - 1s 83us/step - loss: 0.3327 - acc: 0.8632\n",
      "Epoch 98/100\n",
      "8000/8000 [==============================] - 1s 85us/step - loss: 0.3326 - acc: 0.8649\n",
      "Epoch 99/100\n",
      "8000/8000 [==============================] - 1s 84us/step - loss: 0.3327 - acc: 0.8624\n",
      "Epoch 100/100\n",
      "8000/8000 [==============================] - 1s 84us/step - loss: 0.3328 - acc: 0.8644\n"
     ]
    },
    {
     "data": {
      "text/plain": [
       "<keras.callbacks.History at 0x7f5592ecc9b0>"
      ]
     },
     "execution_count": 8,
     "metadata": {},
     "output_type": "execute_result"
    }
   ],
   "source": [
    "# Fitting ANN to training set\n",
    "classifier.fit(X_train,y_train,batch_size=10,epochs=100)"
   ]
  },
  {
   "cell_type": "code",
   "execution_count": 9,
   "metadata": {},
   "outputs": [],
   "source": [
    "# Predicting the Test set results\n",
    "y_pred = classifier.predict(X_test)\n",
    "y_pred = (y_pred > 0.5)"
   ]
  },
  {
   "cell_type": "code",
   "execution_count": 10,
   "metadata": {},
   "outputs": [
    {
     "data": {
      "text/plain": [
       "array([[1513,   82],\n",
       "       [ 198,  207]])"
      ]
     },
     "execution_count": 10,
     "metadata": {},
     "output_type": "execute_result"
    }
   ],
   "source": [
    "# Making the Confusion Matrix\n",
    "from sklearn.metrics import confusion_matrix\n",
    "cm = confusion_matrix(y_test, y_pred)\n",
    "cm"
   ]
  },
  {
   "cell_type": "code",
   "execution_count": null,
   "metadata": {},
   "outputs": [],
   "source": []
  }
 ],
 "metadata": {
  "kernelspec": {
   "display_name": "Python 3",
   "language": "python",
   "name": "python3"
  },
  "language_info": {
   "codemirror_mode": {
    "name": "ipython",
    "version": 3
   },
   "file_extension": ".py",
   "mimetype": "text/x-python",
   "name": "python",
   "nbconvert_exporter": "python",
   "pygments_lexer": "ipython3",
   "version": "3.6.7"
  }
 },
 "nbformat": 4,
 "nbformat_minor": 2
}
